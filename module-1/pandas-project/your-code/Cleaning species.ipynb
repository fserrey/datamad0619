{
 "cells": [
  {
   "cell_type": "code",
   "execution_count": 1,
   "metadata": {},
   "outputs": [],
   "source": [
    "import pandas as pd"
   ]
  },
  {
   "cell_type": "code",
   "execution_count": 2,
   "metadata": {},
   "outputs": [
    {
     "data": {
      "text/plain": [
       "Index(['Case Number', 'Date', 'Year', 'Type', 'Country', 'Area', 'Location',\n",
       "       'Activity', 'Name', 'Sex ', 'Age', 'Injury', 'Fatal (Y/N)', 'Time',\n",
       "       'Species ', 'Investigator or Source', 'pdf', 'href formula', 'href',\n",
       "       'Case Number.1', 'Case Number.2', 'original order', 'Unnamed: 22',\n",
       "       'Unnamed: 23'],\n",
       "      dtype='object')"
      ]
     },
     "execution_count": 2,
     "metadata": {},
     "output_type": "execute_result"
    }
   ],
   "source": [
    "raw_df = pd.read_csv('GSAF5_uncleaned.csv', encoding='latin-1')\n",
    "raw_df.columns\n",
    "\n",
    "###\n",
    "######SACATE LOS INVALID DE TYPES\n",
    "######"
   ]
  },
  {
   "cell_type": "code",
   "execution_count": 6,
   "metadata": {},
   "outputs": [
    {
     "data": {
      "text/plain": [
       "White shark                                                                                                                                      161\n",
       "Shark involvement not confirmed                                                                                                                   80\n",
       "Tiger shark                                                                                                                                       68\n",
       "Bull shark                                                                                                                                        52\n",
       "6' shark                                                                                                                                          40\n",
       "4' shark                                                                                                                                          39\n",
       "1.8 m [6'] shark                                                                                                                                  35\n",
       "1.5 m [5'] shark                                                                                                                                  32\n",
       "1.2 m [4'] shark                                                                                                                                  27\n",
       "5' shark                                                                                                                                          25\n",
       "3' shark                                                                                                                                          25\n",
       "4' to 5' shark                                                                                                                                    23\n",
       "2 m shark                                                                                                                                         22\n",
       "3 m [10'] shark                                                                                                                                   22\n",
       "No shark involvement                                                                                                                              21\n",
       "Wobbegong shark                                                                                                                                   20\n",
       "3' to 4' shark                                                                                                                                    18\n",
       "3 m shark                                                                                                                                         16\n",
       "2.4 m [8'] shark                                                                                                                                  16\n",
       "3.7 m [12'] shark                                                                                                                                 15\n",
       "1.2 m to 1.5 m [4' to 5'] shark                                                                                                                   14\n",
       "7' shark                                                                                                                                          14\n",
       "Blacktip shark                                                                                                                                    14\n",
       "Blue shark                                                                                                                                        14\n",
       "Mako shark                                                                                                                                        14\n",
       "12' shark                                                                                                                                         14\n",
       "\"a small shark\"                                                                                                                                   13\n",
       "10' shark                                                                                                                                         13\n",
       "1.5 m shark                                                                                                                                       13\n",
       "5 m [16.5'] white shark                                                                                                                           13\n",
       "                                                                                                                                                ... \n",
       "\"Blue nose shark\"                                                                                                                                  1\n",
       "1.8 m [6'] sandtiger shark                                                                                                                         1\n",
       "Possibly a 1.5 m [5'] blacktip or spinner shark                                                                                                    1\n",
       "Thought to involve a 2.5 m bull or tiger shark                                                                                                     1\n",
       "White shark, 4.5 to 5 m                                                                                                                            1\n",
       "2.5' shark                                                                                                                                         1\n",
       "Bronze whaler shark, 1.5 m [5']                                                                                                                    1\n",
       "Blacktip reef shark                                                                                                                                1\n",
       "3.5' hammerhead shark                                                                                                                              1\n",
       "4 m [13'] shark seen in vicinity                                                                                                                   1\n",
       "5' to 8' shark                                                                                                                                     1\n",
       "Tiger shark, 8'                                                                                                                                    1\n",
       "small brown shark                                                                                                                                1\n",
       "Said to involve 2 sharks: 5.2 m & 6 m [17' & 20']                                                                                                  1\n",
       " white shark, 15'                                                                                                                                  1\n",
       "Tiger shark said to be 5 to 7 m [16.5' to 23']                                                                                                     1\n",
       "Bronze whaler shark, 1.8 m [6']                                                                                                                    1\n",
       "Mako shark, 125-lb                                                                                                                                 1\n",
       " White shark                                                                                                                                       1\n",
       "3.3 m [10'9\"] shark                                                                                                                                1\n",
       "2 small bull sharks                                                                                                                                1\n",
       "White shark, 4.5 m [14'9\"]                                                                                                                         1\n",
       "White shark or thresher shark                                                                                                                      1\n",
       "Grey nurse shark, 2.6 m [8.5']                                                                                                                     1\n",
       "reef shark, 1.5m                                                                                                                                   1\n",
       "1.2 m to 1.5 m [4' to 5'] bull, sandbar or dusky shark                                                                                             1\n",
       "Grey reef shark, 1.8 m [6'] grey reef shark, identified by Dr. L.P. L. Schultz based on photographs; identified as C. melanopterus by Stewart      1\n",
       "3.5 m [11'6\"] shark captured                                                                                                                       1\n",
       "Possibly a 1.5 m [5'] blacktip shark                                                                                                               1\n",
       "Thresher shark                                                                                                                                     1\n",
       "Name: Species , Length: 1538, dtype: int64"
      ]
     },
     "execution_count": 6,
     "metadata": {},
     "output_type": "execute_result"
    }
   ],
   "source": [
    "raw_df[\"Species \"].value_counts()"
   ]
  },
  {
   "cell_type": "code",
   "execution_count": 16,
   "metadata": {},
   "outputs": [],
   "source": [
    "def findSpecies (s):\n",
    "    sharks = {\n",
    "        \"Bull\":\"Bull Shark\", \"bull\":\"Bull Shark\", \n",
    "        \"White\":\"White Shark\", \"white\":\"White Shark\",\n",
    "        \"Tiger\":\"Tiger Shark\", \"tiger\":\"Tiger Shark\",\n",
    "        \"Mako\": \"Mako Shark\", \"mako\": \"Mako Shark\",\n",
    "        \"Blacktip\": \"Blacktip Shark\", \"blacktip\": \"Blacktip Shark\",\n",
    "        \"Blue\": \"Blue Shark\", \"blue\": \"Blue Shark\",\n",
    "        \"involvement\": None, \"involve\": None, \"Bronze\":\"Bronze Shark\", \"bronze\":\"Bronze Shark\",\n",
    "        \"whaler\":\"Whale Shark\"\n",
    "    }\n",
    "    for shark, species in sharks.items(): \n",
    "        if shark in s: \n",
    "            return species\n",
    "    return \"Other\"\n",
    "    \n"
   ]
  },
  {
   "cell_type": "code",
   "execution_count": 23,
   "metadata": {},
   "outputs": [
    {
     "data": {
      "text/plain": [
       "Case Number               object\n",
       "Date                      object\n",
       "Year                       int64\n",
       "Type                      object\n",
       "Country                   object\n",
       "Area                      object\n",
       "Location                  object\n",
       "Activity                  object\n",
       "Name                      object\n",
       "Sex                       object\n",
       "Age                       object\n",
       "Injury                    object\n",
       "Fatal (Y/N)               object\n",
       "Time                      object\n",
       "Species                   object\n",
       "Investigator or Source    object\n",
       "pdf                       object\n",
       "href formula              object\n",
       "href                      object\n",
       "Case Number.1             object\n",
       "Case Number.2             object\n",
       "original order             int64\n",
       "Unnamed: 22               object\n",
       "Unnamed: 23               object\n",
       "dtype: object"
      ]
     },
     "execution_count": 23,
     "metadata": {},
     "output_type": "execute_result"
    }
   ],
   "source": [
    "raw_df.dtypes"
   ]
  },
  {
   "cell_type": "code",
   "execution_count": 18,
   "metadata": {},
   "outputs": [
    {
     "ename": "TypeError",
     "evalue": "argument of type 'float' is not iterable",
     "output_type": "error",
     "traceback": [
      "\u001b[0;31m---------------------------------------------------------------------------\u001b[0m",
      "\u001b[0;31mTypeError\u001b[0m                                 Traceback (most recent call last)",
      "\u001b[0;32m<ipython-input-18-30d70e8aee12>\u001b[0m in \u001b[0;36m<module>\u001b[0;34m\u001b[0m\n\u001b[0;32m----> 1\u001b[0;31m \u001b[0mraw_df\u001b[0m\u001b[0;34m[\u001b[0m\u001b[0;34m\"Cat_shark\"\u001b[0m\u001b[0;34m]\u001b[0m \u001b[0;34m=\u001b[0m \u001b[0mraw_df\u001b[0m\u001b[0;34m[\u001b[0m\u001b[0;34m\"Species \"\u001b[0m\u001b[0;34m]\u001b[0m\u001b[0;34m.\u001b[0m\u001b[0mapply\u001b[0m\u001b[0;34m(\u001b[0m\u001b[0mfindSpecies\u001b[0m\u001b[0;34m)\u001b[0m\u001b[0;34m\u001b[0m\u001b[0;34m\u001b[0m\u001b[0m\n\u001b[0m",
      "\u001b[0;32m~/.local/lib/python3.6/site-packages/pandas/core/series.py\u001b[0m in \u001b[0;36mapply\u001b[0;34m(self, func, convert_dtype, args, **kwds)\u001b[0m\n\u001b[1;32m   3589\u001b[0m             \u001b[0;32melse\u001b[0m\u001b[0;34m:\u001b[0m\u001b[0;34m\u001b[0m\u001b[0;34m\u001b[0m\u001b[0m\n\u001b[1;32m   3590\u001b[0m                 \u001b[0mvalues\u001b[0m \u001b[0;34m=\u001b[0m \u001b[0mself\u001b[0m\u001b[0;34m.\u001b[0m\u001b[0mastype\u001b[0m\u001b[0;34m(\u001b[0m\u001b[0mobject\u001b[0m\u001b[0;34m)\u001b[0m\u001b[0;34m.\u001b[0m\u001b[0mvalues\u001b[0m\u001b[0;34m\u001b[0m\u001b[0;34m\u001b[0m\u001b[0m\n\u001b[0;32m-> 3591\u001b[0;31m                 \u001b[0mmapped\u001b[0m \u001b[0;34m=\u001b[0m \u001b[0mlib\u001b[0m\u001b[0;34m.\u001b[0m\u001b[0mmap_infer\u001b[0m\u001b[0;34m(\u001b[0m\u001b[0mvalues\u001b[0m\u001b[0;34m,\u001b[0m \u001b[0mf\u001b[0m\u001b[0;34m,\u001b[0m \u001b[0mconvert\u001b[0m\u001b[0;34m=\u001b[0m\u001b[0mconvert_dtype\u001b[0m\u001b[0;34m)\u001b[0m\u001b[0;34m\u001b[0m\u001b[0;34m\u001b[0m\u001b[0m\n\u001b[0m\u001b[1;32m   3592\u001b[0m \u001b[0;34m\u001b[0m\u001b[0m\n\u001b[1;32m   3593\u001b[0m         \u001b[0;32mif\u001b[0m \u001b[0mlen\u001b[0m\u001b[0;34m(\u001b[0m\u001b[0mmapped\u001b[0m\u001b[0;34m)\u001b[0m \u001b[0;32mand\u001b[0m \u001b[0misinstance\u001b[0m\u001b[0;34m(\u001b[0m\u001b[0mmapped\u001b[0m\u001b[0;34m[\u001b[0m\u001b[0;36m0\u001b[0m\u001b[0;34m]\u001b[0m\u001b[0;34m,\u001b[0m \u001b[0mSeries\u001b[0m\u001b[0;34m)\u001b[0m\u001b[0;34m:\u001b[0m\u001b[0;34m\u001b[0m\u001b[0;34m\u001b[0m\u001b[0m\n",
      "\u001b[0;32mpandas/_libs/lib.pyx\u001b[0m in \u001b[0;36mpandas._libs.lib.map_infer\u001b[0;34m()\u001b[0m\n",
      "\u001b[0;32m<ipython-input-16-194703af5447>\u001b[0m in \u001b[0;36mfindSpecies\u001b[0;34m(s)\u001b[0m\n\u001b[1;32m     11\u001b[0m     }\n\u001b[1;32m     12\u001b[0m     \u001b[0;32mfor\u001b[0m \u001b[0mshark\u001b[0m\u001b[0;34m,\u001b[0m \u001b[0mspecies\u001b[0m \u001b[0;32min\u001b[0m \u001b[0msharks\u001b[0m\u001b[0;34m.\u001b[0m\u001b[0mitems\u001b[0m\u001b[0;34m(\u001b[0m\u001b[0;34m)\u001b[0m\u001b[0;34m:\u001b[0m\u001b[0;34m\u001b[0m\u001b[0;34m\u001b[0m\u001b[0m\n\u001b[0;32m---> 13\u001b[0;31m         \u001b[0;32mif\u001b[0m \u001b[0mshark\u001b[0m \u001b[0;32min\u001b[0m \u001b[0ms\u001b[0m\u001b[0;34m:\u001b[0m\u001b[0;34m\u001b[0m\u001b[0;34m\u001b[0m\u001b[0m\n\u001b[0m\u001b[1;32m     14\u001b[0m             \u001b[0;32mreturn\u001b[0m \u001b[0mspecies\u001b[0m\u001b[0;34m\u001b[0m\u001b[0;34m\u001b[0m\u001b[0m\n\u001b[1;32m     15\u001b[0m     \u001b[0;32mreturn\u001b[0m \u001b[0;34m\"Other\"\u001b[0m\u001b[0;34m\u001b[0m\u001b[0;34m\u001b[0m\u001b[0m\n",
      "\u001b[0;31mTypeError\u001b[0m: argument of type 'float' is not iterable"
     ]
    }
   ],
   "source": [
    "raw_df[\"Cat_shark\"] = raw_df[\"Species \"].apply(findSpecies)"
   ]
  },
  {
   "cell_type": "code",
   "execution_count": null,
   "metadata": {},
   "outputs": [],
   "source": []
  },
  {
   "cell_type": "code",
   "execution_count": null,
   "metadata": {},
   "outputs": [],
   "source": []
  },
  {
   "cell_type": "code",
   "execution_count": null,
   "metadata": {},
   "outputs": [],
   "source": [
    "def findMonth (m):\n",
    "    months = {\n",
    "        \"Jan\":1, \"Feb\":2, \"Mar\":3, \"Apr\":4, \"May\":5, \"Jun\":6, \"Jul\":7, \"Aug\":8, \"Sep\":9, \"Oct\":10, \"Nov\":11, \"Dec\":12\n",
    "    }\n",
    "    for month, numero in months.items(): \n",
    "        if month in m: \n",
    "            return numero\n",
    "    return None\n",
    "    \n",
    "raw_df2[\"Months\"] = raw_df2[\"Date\"].apply(findMonth)\n",
    "#raw_df2[\"Months\"].value_counts()\n"
   ]
  },
  {
   "cell_type": "code",
   "execution_count": null,
   "metadata": {},
   "outputs": [],
   "source": []
  },
  {
   "cell_type": "code",
   "execution_count": null,
   "metadata": {},
   "outputs": [],
   "source": []
  },
  {
   "cell_type": "code",
   "execution_count": null,
   "metadata": {},
   "outputs": [],
   "source": []
  }
 ],
 "metadata": {
  "kernelspec": {
   "display_name": "Python 3",
   "language": "python",
   "name": "python3"
  },
  "language_info": {
   "codemirror_mode": {
    "name": "ipython",
    "version": 3
   },
   "file_extension": ".py",
   "mimetype": "text/x-python",
   "name": "python",
   "nbconvert_exporter": "python",
   "pygments_lexer": "ipython3",
   "version": "3.6.7"
  }
 },
 "nbformat": 4,
 "nbformat_minor": 2
}
