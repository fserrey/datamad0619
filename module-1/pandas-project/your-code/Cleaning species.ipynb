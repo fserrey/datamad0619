{
 "cells": [
  {
   "cell_type": "code",
   "execution_count": 1,
   "metadata": {},
   "outputs": [],
   "source": [
    "import pandas as pd"
   ]
  },
  {
   "cell_type": "code",
   "execution_count": 2,
   "metadata": {},
   "outputs": [
    {
     "data": {
      "text/plain": [
       "Index(['Case Number', 'Date', 'Year', 'Type', 'Country', 'Area', 'Location',\n",
       "       'Activity', 'Name', 'Sex ', 'Age', 'Injury', 'Fatal (Y/N)', 'Time',\n",
       "       'Species ', 'Investigator or Source', 'pdf', 'href formula', 'href',\n",
       "       'Case Number.1', 'Case Number.2', 'original order', 'Unnamed: 22',\n",
       "       'Unnamed: 23'],\n",
       "      dtype='object')"
      ]
     },
     "execution_count": 2,
     "metadata": {},
     "output_type": "execute_result"
    }
   ],
   "source": [
    "raw_df = pd.read_csv('GSAF5_uncleaned.csv', encoding='latin-1')\n",
    "raw_df.columns\n",
    "\n",
    "###\n",
    "######SACATE LOS INVALID DE TYPES\n",
    "######"
   ]
  },
  {
   "cell_type": "code",
   "execution_count": 32,
   "metadata": {},
   "outputs": [],
   "source": [
    "raw_df[\"Species \"].isnull()\n",
    "\n",
    "pd.to_numeric(raw_df[\"Species \"], errors='coerce')\n",
    "\n",
    "raw_df = raw_df.dropna(subset=[\"Species \"])\n",
    "\n",
    "raw_df[\"Species \"] = raw_df[\"Species \"].astype(str)\n",
    "\n",
    "\n",
    "\n"
   ]
  },
  {
   "cell_type": "code",
   "execution_count": 36,
   "metadata": {},
   "outputs": [],
   "source": [
    "def findSpecies (s):\n",
    "    sharks = {\n",
    "        \"Bull\":\"Bull Shark\", \"bull\":\"Bull Shark\", \n",
    "        \"White\":\"White Shark\", \"white\":\"White Shark\",\n",
    "        \"Tiger\":\"Tiger Shark\", \"tiger\":\"Tiger Shark\",\n",
    "        \"Mako\": \"Mako Shark\", \"mako\": \"Mako Shark\",\n",
    "        \"Blacktip\": \"Blacktip Shark\", \"blacktip\": \"Blacktip Shark\",\n",
    "        \"Blue\": \"Blue Shark\", \"blue\": \"Blue Shark\",\n",
    "        \"involvement\": None, \"involve\": None, \"Bronze\":\"Bronze Shark\", \"bronze\":\"Bronze Shark\",\n",
    "        \"whaler\":\"Whale Shark\"\n",
    "    }\n",
    "    for shark, species in sharks.items(): \n",
    "        if shark in s: \n",
    "            return species\n",
    "    return \"Other\"\n",
    "    \n"
   ]
  },
  {
   "cell_type": "code",
   "execution_count": 37,
   "metadata": {},
   "outputs": [],
   "source": [
    "#raw_df.dtypes"
   ]
  },
  {
   "cell_type": "code",
   "execution_count": 38,
   "metadata": {},
   "outputs": [],
   "source": [
    "raw_df[\"Cat_shark\"] = raw_df[\"Species \"].apply(findSpecies)"
   ]
  },
  {
   "cell_type": "code",
   "execution_count": 39,
   "metadata": {},
   "outputs": [
    {
     "data": {
      "text/plain": [
       "Other             1511\n",
       "White Shark        644\n",
       "Tiger Shark        275\n",
       "Bull Shark         176\n",
       "Blacktip Shark     102\n",
       "Bronze Shark        63\n",
       "Blue Shark          58\n",
       "Mako Shark          56\n",
       "Whale Shark          5\n",
       "Name: Cat_shark, dtype: int64"
      ]
     },
     "execution_count": 39,
     "metadata": {},
     "output_type": "execute_result"
    }
   ],
   "source": [
    "raw_df[\"Cat_shark\"].value_counts()"
   ]
  },
  {
   "cell_type": "code",
   "execution_count": null,
   "metadata": {},
   "outputs": [],
   "source": []
  },
  {
   "cell_type": "code",
   "execution_count": null,
   "metadata": {},
   "outputs": [],
   "source": []
  },
  {
   "cell_type": "code",
   "execution_count": null,
   "metadata": {},
   "outputs": [],
   "source": []
  },
  {
   "cell_type": "code",
   "execution_count": null,
   "metadata": {},
   "outputs": [],
   "source": []
  },
  {
   "cell_type": "code",
   "execution_count": null,
   "metadata": {},
   "outputs": [],
   "source": []
  }
 ],
 "metadata": {
  "kernelspec": {
   "display_name": "Python 3",
   "language": "python",
   "name": "python3"
  },
  "language_info": {
   "codemirror_mode": {
    "name": "ipython",
    "version": 3
   },
   "file_extension": ".py",
   "mimetype": "text/x-python",
   "name": "python",
   "nbconvert_exporter": "python",
   "pygments_lexer": "ipython3",
   "version": "3.6.7"
  }
 },
 "nbformat": 4,
 "nbformat_minor": 2
}
