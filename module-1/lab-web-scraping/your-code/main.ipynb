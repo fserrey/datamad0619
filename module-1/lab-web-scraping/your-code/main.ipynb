{
 "cells": [
  {
   "cell_type": "markdown",
   "metadata": {},
   "source": [
    "# Web Scraping Lab\n",
    "\n",
    "You will find in this notebook some scrapy exercises to practise your scraping skills.\n",
    "\n",
    "**Tips:**\n",
    "\n",
    "- Check the response status code for each request to ensure you have obtained the intended contennt.\n",
    "- Print the response text in each request to understand the kind of info you are getting and its format.\n",
    "- Check for patterns in the response text to extract the data/info requested in each question.\n",
    "- Visit each url and take a look at its source through Chrome DevTools. You'll need to identify the html tags, special class names etc. used for the html content you are expected to extract."
   ]
  },
  {
   "cell_type": "markdown",
   "metadata": {},
   "source": [
    "- [Requests library](http://docs.python-requests.org/en/master/#the-user-guide) documentation \n",
    "- [Beautiful Soup Doc](https://www.crummy.com/software/BeautifulSoup/bs4/doc/)\n",
    "- [Urllib](https://docs.python.org/3/library/urllib.html#module-urllib)\n",
    "- [re lib](https://docs.python.org/3/library/re.html)\n",
    "- [lxml lib](https://lxml.de/)\n",
    "- [Scrapy](https://scrapy.org/)\n",
    "- [List of HTTP status codes](https://en.wikipedia.org/wiki/List_of_HTTP_status_codes)\n",
    "- [HTML basics](http://www.simplehtmlguide.com/cheatsheet.php)\n",
    "- [CSS basics](https://www.cssbasics.com/#page_start)"
   ]
  },
  {
   "cell_type": "markdown",
   "metadata": {},
   "source": [
    "#### Below are the libraries and modules you may need. `requests`,  `BeautifulSoup` and `pandas` are imported for you. If you prefer to use additional libraries feel free to uncomment them."
   ]
  },
  {
   "cell_type": "code",
   "execution_count": 1,
   "metadata": {},
   "outputs": [],
   "source": [
    "import requests as req\n",
    "from bs4 import BeautifulSoup\n",
    "import pandas as pd\n",
    "\n",
    "# from pprint import pprint\n",
    "# from lxml import html\n",
    "# from lxml.html import fromstring\n",
    "# import urllib.request\n",
    "# from urllib.request import urlopen\n",
    "# import random\n",
    "# import re\n",
    "# import scrapy"
   ]
  },
  {
   "cell_type": "markdown",
   "metadata": {},
   "source": [
    "#### Download, parse (using BeautifulSoup), and print the content from the Trending Developers page from GitHub:"
   ]
  },
  {
   "cell_type": "code",
   "execution_count": 2,
   "metadata": {},
   "outputs": [],
   "source": [
    "# This is the url you will scrape in this exercise\n",
    "url = 'https://github.com/trending/developers'"
   ]
  },
  {
   "cell_type": "code",
   "execution_count": 3,
   "metadata": {},
   "outputs": [
    {
     "name": "stdout",
     "output_type": "stream",
     "text": [
      "<Response [200]>\n"
     ]
    },
    {
     "data": {
      "text/plain": [
       "[<h1 class=\"h3 lh-condensed\"><a href=\"/peterbourgon\">Peter Bourgon</a></h1>,\n",
       " <h1 class=\"h3 lh-condensed\"><a href=\"/tomaka\">Pierre Krieger</a></h1>,\n",
       " <h1 class=\"h3 lh-condensed\"><a href=\"/carllerche\">Carl Lerche</a></h1>,\n",
       " <h1 class=\"h3 lh-condensed\"><a href=\"/mdlayher\">Matt Layher</a></h1>,\n",
       " <h1 class=\"h3 lh-condensed\"><a href=\"/claudiosanches\">Claudio Sanches</a></h1>,\n",
       " <h1 class=\"h3 lh-condensed\"><a href=\"/jeremylong\">Jeremy Long</a></h1>,\n",
       " <h1 class=\"h3 lh-condensed\"><a href=\"/EddyVerbruggen\">Eddy Verbruggen</a></h1>,\n",
       " <h1 class=\"h3 lh-condensed\"><a href=\"/kylekatarnls\">Kyle</a></h1>,\n",
       " <h1 class=\"h3 lh-condensed\"><a href=\"/geerlingguy\">Jeff Geerling</a></h1>,\n",
       " <h1 class=\"h3 lh-condensed\"><a href=\"/kwight\">Kirk Wight</a></h1>,\n",
       " <h1 class=\"h3 lh-condensed\"><a href=\"/shiffman\">Daniel Shiffman</a></h1>,\n",
       " <h1 class=\"h3 lh-condensed\"><a href=\"/luin\">子骅</a></h1>,\n",
       " <h1 class=\"h3 lh-condensed\"><a href=\"/bkchr\">Bastian Köcher</a></h1>,\n",
       " <h1 class=\"h3 lh-condensed\"><a href=\"/shiftkey\">Brendan Forster</a></h1>,\n",
       " <h1 class=\"h3 lh-condensed\"><a href=\"/beberlei\">Benjamin Eberlei</a></h1>,\n",
       " <h1 class=\"h3 lh-condensed\"><a href=\"/tgriesser\">Tim Griesser</a></h1>,\n",
       " <h1 class=\"h3 lh-condensed\"><a href=\"/saschagrunert\">Sascha Grunert</a></h1>,\n",
       " <h1 class=\"h3 lh-condensed\"><a href=\"/jrfnl\">Juliette</a></h1>,\n",
       " <h1 class=\"h3 lh-condensed\"><a href=\"/caarlos0\">Carlos Alexandro Becker</a></h1>,\n",
       " <h1 class=\"h3 lh-condensed\"><a href=\"/johnbillion\">John Blackbourn</a></h1>,\n",
       " <h1 class=\"h3 lh-condensed\"><a href=\"/hswolff\">Harry Wolff</a></h1>,\n",
       " <h1 class=\"h3 lh-condensed\"><a href=\"/i0natan\">Yoni Goldberg</a></h1>,\n",
       " <h1 class=\"h3 lh-condensed\"><a href=\"/felangel\">Felix Angelov</a></h1>,\n",
       " <h1 class=\"h3 lh-condensed\"><a href=\"/thegecko\">Rob Moran</a></h1>,\n",
       " <h1 class=\"h3 lh-condensed\"><a href=\"/ayrat555\">Ayrat Badykov</a></h1>]"
      ]
     },
     "execution_count": 3,
     "metadata": {},
     "output_type": "execute_result"
    }
   ],
   "source": [
    "res = req.get(url)\n",
    "print(res)\n",
    "res.text\n",
    "soup = BeautifulSoup(res.text, 'html.parser')\n",
    "soup.title\n",
    "soup\n",
    "\n",
    "devs = soup.find_all('h1', {\"class\":\"h3 lh-condensed\"})\n",
    "devs\n"
   ]
  },
  {
   "cell_type": "markdown",
   "metadata": {},
   "source": [
    "#### Display the names of the trending developers retrieved in the previous step.\n",
    "\n",
    "Your output should be a Python list of developer names. Each name should not contain any html tag.\n",
    "\n",
    "**Instructions:**\n",
    "\n",
    "1. Find out the html tag and class names used for the developer names. You can achieve this using Chrome DevTools.\n",
    "\n",
    "1. Use BeautifulSoup to extract all the html elements that contain the developer names.\n",
    "\n",
    "1. Use string manipulation techniques to replace whitespaces and linebreaks (i.e. `\\n`) in the *text* of each html element. Use a list to store the clean names.\n",
    "\n",
    "1. Print the list of names.\n",
    "\n",
    "Your output should look like below:\n",
    "\n",
    "```\n",
    "['trimstray (@trimstray)',\n",
    " 'joewalnes (JoeWalnes)',\n",
    " 'charlax (Charles-AxelDein)',\n",
    " 'ForrestKnight (ForrestKnight)',\n",
    " 'revery-ui (revery-ui)',\n",
    " 'alibaba (Alibaba)',\n",
    " 'Microsoft (Microsoft)',\n",
    " 'github (GitHub)',\n",
    " 'facebook (Facebook)',\n",
    " 'boazsegev (Bo)',\n",
    " 'google (Google)',\n",
    " 'cloudfetch',\n",
    " 'sindresorhus (SindreSorhus)',\n",
    " 'tensorflow',\n",
    " 'apache (TheApacheSoftwareFoundation)',\n",
    " 'DevonCrawford (DevonCrawford)',\n",
    " 'ARMmbed (ArmMbed)',\n",
    " 'vuejs (vuejs)',\n",
    " 'fastai (fast.ai)',\n",
    " 'QiShaoXuan (Qi)',\n",
    " 'joelparkerhenderson (JoelParkerHenderson)',\n",
    " 'torvalds (LinusTorvalds)',\n",
    " 'CyC2018',\n",
    " 'komeiji-satori (神楽坂覚々)',\n",
    " 'script-8']\n",
    " ```"
   ]
  },
  {
   "cell_type": "code",
   "execution_count": 5,
   "metadata": {},
   "outputs": [
    {
     "name": "stdout",
     "output_type": "stream",
     "text": [
      "Peter Bourgon /peterbourgon\n",
      "Pierre Krieger /tomaka\n",
      "Carl Lerche /carllerche\n",
      "Matt Layher /mdlayher\n",
      "Claudio Sanches /claudiosanches\n",
      "Jeremy Long /jeremylong\n",
      "Eddy Verbruggen /EddyVerbruggen\n",
      "Kyle /kylekatarnls\n",
      "Jeff Geerling /geerlingguy\n",
      "Kirk Wight /kwight\n",
      "Daniel Shiffman /shiffman\n",
      "子骅 /luin\n",
      "Bastian Köcher /bkchr\n",
      "Brendan Forster /shiftkey\n",
      "Benjamin Eberlei /beberlei\n",
      "Tim Griesser /tgriesser\n",
      "Sascha Grunert /saschagrunert\n",
      "Juliette /jrfnl\n",
      "Carlos Alexandro Becker /caarlos0\n",
      "John Blackbourn /johnbillion\n",
      "Harry Wolff /hswolff\n",
      "Yoni Goldberg /i0natan\n",
      "Felix Angelov /felangel\n",
      "Rob Moran /thegecko\n",
      "Ayrat Badykov /ayrat555\n"
     ]
    }
   ],
   "source": [
    "#names_hrefs = [' '.join((elem.text, elem.a.get('href'))) for elem in devs]\n",
    "\n",
    "lst_elements = soup.select(\"h1.h3 a\")\n",
    "\n",
    "for e in lst_elements:\n",
    "    print(e.text, e.attrs[\"href\"])"
   ]
  },
  {
   "cell_type": "markdown",
   "metadata": {},
   "source": [
    "#### Display the trending Python repositories in GitHub\n",
    "\n",
    "The steps to solve this problem is similar to the previous one except that you need to find out the repository names instead of developer names."
   ]
  },
  {
   "cell_type": "code",
   "execution_count": 6,
   "metadata": {},
   "outputs": [],
   "source": [
    "# This is the url you will scrape in this exercise\n",
    "url = 'https://github.com/trending/python?since=daily'\n",
    "res = req.get(url)\n",
    "res.text\n",
    "soup2 = BeautifulSoup(res.text, 'html.parser')"
   ]
  },
  {
   "cell_type": "code",
   "execution_count": 9,
   "metadata": {},
   "outputs": [
    {
     "name": "stdout",
     "output_type": "stream",
     "text": [
      "\n",
      "\n",
      "bokeh / bokeh\n",
      "\n",
      "\n",
      "\n",
      "raspberrypi / documentation\n",
      "\n",
      "\n",
      "\n",
      "celery / celery\n",
      "\n",
      "\n",
      "\n",
      "ZhuiyiTechnology / nl2sql_baseline\n",
      "\n",
      "\n",
      "\n",
      "apache / airflow\n",
      "\n",
      "\n",
      "\n",
      "fishtown-analytics / dbt\n",
      "\n",
      "\n",
      "\n",
      "tweepy / tweepy\n",
      "\n",
      "\n",
      "\n",
      "facebookresearch / Detectron\n",
      "\n",
      "\n",
      "\n",
      "mlflow / mlflow\n",
      "\n",
      "\n",
      "\n",
      "USTC-Resource / USTC-Course\n",
      "\n",
      "\n",
      "\n",
      "tensorflow / tensor2tensor\n",
      "\n",
      "\n",
      "\n",
      "dmlc / tvm\n",
      "\n",
      "\n",
      "\n",
      "openshift / openshift-ansible\n",
      "\n",
      "\n",
      "\n",
      "python-telegram-bot / python-telegram-bot\n",
      "\n",
      "\n",
      "\n",
      "rbgirshick / py-faster-rcnn\n",
      "\n",
      "\n",
      "\n",
      "microsoft / nni\n",
      "\n",
      "\n",
      "\n",
      "locustio / locust\n",
      "\n",
      "\n",
      "\n",
      "googleapis / google-cloud-python\n",
      "\n",
      "\n",
      "\n",
      "huge-success / sanic\n",
      "\n",
      "\n",
      "\n",
      "edx / edx-platform\n",
      "\n",
      "\n",
      "\n",
      "MobSF / Mobile-Security-Framework-MobSF\n",
      "\n",
      "\n",
      "\n",
      "sabricot / django-elasticsearch-dsl\n",
      "\n",
      "\n",
      "\n",
      "Julian / jsonschema\n",
      "\n",
      "\n",
      "\n",
      "scrapy / scrapy\n",
      "\n",
      "\n",
      "\n",
      "Neo23x0 / sigma\n",
      "\n"
     ]
    }
   ],
   "source": [
    "repo = soup2.select(\"h1.h3 a\")\n",
    "\n",
    "for e in repo:\n",
    "    print(e.text)"
   ]
  },
  {
   "cell_type": "markdown",
   "metadata": {},
   "source": [
    "#### Display all the image links from Walt Disney wikipedia page"
   ]
  },
  {
   "cell_type": "code",
   "execution_count": null,
   "metadata": {},
   "outputs": [],
   "source": [
    "# This is the url you will scrape in this exercise\n",
    "url = 'https://en.wikipedia.org/wiki/Walt_Disney'"
   ]
  },
  {
   "cell_type": "code",
   "execution_count": null,
   "metadata": {},
   "outputs": [],
   "source": [
    "#your code"
   ]
  },
  {
   "cell_type": "markdown",
   "metadata": {},
   "source": [
    "#### Retrieve an arbitary Wikipedia page of \"Python\" and create a list of links on that page"
   ]
  },
  {
   "cell_type": "code",
   "execution_count": null,
   "metadata": {},
   "outputs": [],
   "source": [
    "# This is the url you will scrape in this exercise\n",
    "url ='https://en.wikipedia.org/wiki/Python' "
   ]
  },
  {
   "cell_type": "code",
   "execution_count": null,
   "metadata": {},
   "outputs": [],
   "source": [
    "#your code"
   ]
  },
  {
   "cell_type": "markdown",
   "metadata": {},
   "source": [
    "#### Number of Titles that have changed in the United States Code since its last release point "
   ]
  },
  {
   "cell_type": "code",
   "execution_count": null,
   "metadata": {},
   "outputs": [],
   "source": [
    "# This is the url you will scrape in this exercise\n",
    "url = 'http://uscode.house.gov/download/download.shtml'"
   ]
  },
  {
   "cell_type": "code",
   "execution_count": null,
   "metadata": {},
   "outputs": [],
   "source": [
    "#your code"
   ]
  },
  {
   "cell_type": "markdown",
   "metadata": {},
   "source": [
    "#### A Python list with the top ten FBI's Most Wanted names "
   ]
  },
  {
   "cell_type": "code",
   "execution_count": null,
   "metadata": {},
   "outputs": [],
   "source": [
    "# This is the url you will scrape in this exercise\n",
    "url = 'https://www.fbi.gov/wanted/topten'"
   ]
  },
  {
   "cell_type": "code",
   "execution_count": null,
   "metadata": {},
   "outputs": [],
   "source": [
    "#your code "
   ]
  },
  {
   "cell_type": "markdown",
   "metadata": {},
   "source": [
    "####  20 latest earthquakes info (date, time, latitude, longitude and region name) by the EMSC as a pandas dataframe"
   ]
  },
  {
   "cell_type": "code",
   "execution_count": null,
   "metadata": {},
   "outputs": [],
   "source": [
    "# This is the url you will scrape in this exercise\n",
    "url = 'https://www.emsc-csem.org/Earthquake/'"
   ]
  },
  {
   "cell_type": "code",
   "execution_count": null,
   "metadata": {},
   "outputs": [],
   "source": [
    "#your code"
   ]
  },
  {
   "cell_type": "markdown",
   "metadata": {},
   "source": [
    "#### Display the date, days, title, city, country of next 25 hackathon events as a Pandas dataframe table"
   ]
  },
  {
   "cell_type": "code",
   "execution_count": null,
   "metadata": {},
   "outputs": [],
   "source": [
    "# This is the url you will scrape in this exercise\n",
    "url ='https://hackevents.co/hackathons'"
   ]
  },
  {
   "cell_type": "code",
   "execution_count": null,
   "metadata": {},
   "outputs": [],
   "source": [
    "#your code"
   ]
  },
  {
   "cell_type": "markdown",
   "metadata": {},
   "source": [
    "#### Count number of tweets by a given Twitter account."
   ]
  },
  {
   "cell_type": "markdown",
   "metadata": {},
   "source": [
    "You will need to include a ***try/except block*** for account names not found. \n",
    "<br>***Hint:*** the program should count the number of tweets for any provided account"
   ]
  },
  {
   "cell_type": "code",
   "execution_count": null,
   "metadata": {},
   "outputs": [],
   "source": [
    "# This is the url you will scrape in this exercise \n",
    "# You will need to add the account credentials to this url\n",
    "url = 'https://twitter.com/'"
   ]
  },
  {
   "cell_type": "code",
   "execution_count": null,
   "metadata": {},
   "outputs": [],
   "source": [
    "#your code"
   ]
  },
  {
   "cell_type": "markdown",
   "metadata": {},
   "source": [
    "#### Number of followers of a given twitter account"
   ]
  },
  {
   "cell_type": "markdown",
   "metadata": {},
   "source": [
    "You will need to include a ***try/except block*** in case account/s name not found. \n",
    "<br>***Hint:*** the program should count the followers for any provided account"
   ]
  },
  {
   "cell_type": "code",
   "execution_count": null,
   "metadata": {},
   "outputs": [],
   "source": [
    "# This is the url you will scrape in this exercise \n",
    "# You will need to add the account credentials to this url\n",
    "url = 'https://twitter.com/'"
   ]
  },
  {
   "cell_type": "code",
   "execution_count": null,
   "metadata": {},
   "outputs": [],
   "source": [
    "#your code"
   ]
  },
  {
   "cell_type": "markdown",
   "metadata": {},
   "source": [
    "#### List all language names and number of related articles in the order they appear in wikipedia.org"
   ]
  },
  {
   "cell_type": "code",
   "execution_count": null,
   "metadata": {},
   "outputs": [],
   "source": [
    "# This is the url you will scrape in this exercise\n",
    "url = 'https://www.wikipedia.org/'"
   ]
  },
  {
   "cell_type": "code",
   "execution_count": null,
   "metadata": {},
   "outputs": [],
   "source": [
    "#your code"
   ]
  },
  {
   "cell_type": "markdown",
   "metadata": {},
   "source": [
    "#### A list with the different kind of datasets available in data.gov.uk "
   ]
  },
  {
   "cell_type": "code",
   "execution_count": null,
   "metadata": {},
   "outputs": [],
   "source": [
    "# This is the url you will scrape in this exercise\n",
    "url = 'https://data.gov.uk/'"
   ]
  },
  {
   "cell_type": "code",
   "execution_count": null,
   "metadata": {},
   "outputs": [],
   "source": [
    "#your code "
   ]
  },
  {
   "cell_type": "markdown",
   "metadata": {},
   "source": [
    "#### Top 10 languages by number of native speakers stored in a Pandas Dataframe"
   ]
  },
  {
   "cell_type": "code",
   "execution_count": null,
   "metadata": {},
   "outputs": [],
   "source": [
    "# This is the url you will scrape in this exercise\n",
    "url = 'https://en.wikipedia.org/wiki/List_of_languages_by_number_of_native_speakers'"
   ]
  },
  {
   "cell_type": "code",
   "execution_count": null,
   "metadata": {},
   "outputs": [],
   "source": [
    "#your code"
   ]
  },
  {
   "cell_type": "markdown",
   "metadata": {},
   "source": [
    "### BONUS QUESTIONS"
   ]
  },
  {
   "cell_type": "markdown",
   "metadata": {},
   "source": [
    "#### Scrape a certain number of tweets of a given Twitter account."
   ]
  },
  {
   "cell_type": "code",
   "execution_count": null,
   "metadata": {},
   "outputs": [],
   "source": [
    "# This is the url you will scrape in this exercise \n",
    "# You will need to add the account credentials to this url\n",
    "url = 'https://twitter.com/'"
   ]
  },
  {
   "cell_type": "code",
   "execution_count": null,
   "metadata": {},
   "outputs": [],
   "source": [
    "# your code"
   ]
  },
  {
   "cell_type": "markdown",
   "metadata": {},
   "source": [
    "#### IMDB's Top 250 data (movie name, Initial release, director name and stars) as a pandas dataframe"
   ]
  },
  {
   "cell_type": "code",
   "execution_count": null,
   "metadata": {},
   "outputs": [],
   "source": [
    "# This is the url you will scrape in this exercise \n",
    "url = 'https://www.imdb.com/chart/top'"
   ]
  },
  {
   "cell_type": "code",
   "execution_count": null,
   "metadata": {},
   "outputs": [],
   "source": [
    "# your code"
   ]
  },
  {
   "cell_type": "markdown",
   "metadata": {},
   "source": [
    "#### Movie name, year and a brief summary of the top 10 random movies (IMDB) as a pandas dataframe."
   ]
  },
  {
   "cell_type": "code",
   "execution_count": null,
   "metadata": {},
   "outputs": [],
   "source": [
    "#This is the url you will scrape in this exercise\n",
    "url = 'http://www.imdb.com/chart/top'"
   ]
  },
  {
   "cell_type": "code",
   "execution_count": null,
   "metadata": {},
   "outputs": [],
   "source": [
    "#your code"
   ]
  },
  {
   "cell_type": "markdown",
   "metadata": {},
   "source": [
    "#### Find the live weather report (temperature, wind speed, description and weather) of a given city."
   ]
  },
  {
   "cell_type": "code",
   "execution_count": null,
   "metadata": {},
   "outputs": [],
   "source": [
    "#https://openweathermap.org/current\n",
    "city = city=input('Enter the city:')\n",
    "url = 'http://api.openweathermap.org/data/2.5/weather?'+'q='+city+'&APPID=b35975e18dc93725acb092f7272cc6b8&units=metric'"
   ]
  },
  {
   "cell_type": "code",
   "execution_count": null,
   "metadata": {},
   "outputs": [],
   "source": [
    "# your code"
   ]
  },
  {
   "cell_type": "markdown",
   "metadata": {},
   "source": [
    "#### Book name,price and stock availability as a pandas dataframe."
   ]
  },
  {
   "cell_type": "code",
   "execution_count": null,
   "metadata": {},
   "outputs": [],
   "source": [
    "# This is the url you will scrape in this exercise. \n",
    "# It is a fictional bookstore created to be scraped. \n",
    "url = 'http://books.toscrape.com/'"
   ]
  },
  {
   "cell_type": "code",
   "execution_count": null,
   "metadata": {},
   "outputs": [],
   "source": [
    "#your code"
   ]
  }
 ],
 "metadata": {
  "kernelspec": {
   "display_name": "Python 3",
   "language": "python",
   "name": "python3"
  },
  "language_info": {
   "codemirror_mode": {
    "name": "ipython",
    "version": 3
   },
   "file_extension": ".py",
   "mimetype": "text/x-python",
   "name": "python",
   "nbconvert_exporter": "python",
   "pygments_lexer": "ipython3",
   "version": "3.6.7"
  }
 },
 "nbformat": 4,
 "nbformat_minor": 2
}
