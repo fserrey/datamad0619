{
 "cells": [
  {
   "cell_type": "markdown",
   "metadata": {},
   "source": [
    "# Challenge 1"
   ]
  },
  {
   "cell_type": "code",
   "execution_count": 11,
   "metadata": {},
   "outputs": [],
   "source": [
    "import json\n",
    "import requests as r\n",
    "import os\n",
    "from dotenv import load_dotenv\n",
    "load_dotenv()\n",
    "\n",
    "if not \"GITHUB_TOKEN\" in os.environ:\n",
    "    raise ValueError(\"You should pass a GITHUB TOKEN, see: https://github.com/settings/tokens\")\n",
    "\n",
    "GITHUB_TOKEN = os.environ[\"GITHUB_TOKEN\"]"
   ]
  },
  {
   "cell_type": "code",
   "execution_count": 16,
   "metadata": {},
   "outputs": [],
   "source": [
    "repo = \"ironhack-datalabs/madrid-oct-2018\"\n",
    "forks = \"http://api.github.com/repos/\" + repo + \"/forks\"\n",
    "\n",
    "headers = {\n",
    "    \"Authorization\": \"token {}\".format(GITHUB_TOKEN)\n",
    "    \n",
    "}\n",
    "\n",
    "\n",
    "#GET /repos/:owner/:repo/forks"
   ]
  },
  {
   "cell_type": "code",
   "execution_count": 17,
   "metadata": {},
   "outputs": [],
   "source": [
    "request = r.get(forks, headers=headers).json()\n",
    "#print(request)"
   ]
  },
  {
   "cell_type": "code",
   "execution_count": 18,
   "metadata": {},
   "outputs": [],
   "source": [
    "lang = set()"
   ]
  },
  {
   "cell_type": "code",
   "execution_count": 19,
   "metadata": {},
   "outputs": [
    {
     "name": "stdout",
     "output_type": "stream",
     "text": [
      "{'Python', 'HTML', 'Jupyter Notebook'}\n"
     ]
    }
   ],
   "source": [
    "\n",
    "for i in range(len(request)):\n",
    "    lang.add(request[i]['language'])\n",
    "    \n",
    "print(lang)\n",
    "\n"
   ]
  },
  {
   "cell_type": "code",
   "execution_count": null,
   "metadata": {},
   "outputs": [],
   "source": []
  },
  {
   "cell_type": "code",
   "execution_count": null,
   "metadata": {},
   "outputs": [],
   "source": []
  },
  {
   "cell_type": "code",
   "execution_count": null,
   "metadata": {},
   "outputs": [],
   "source": []
  }
 ],
 "metadata": {
  "kernelspec": {
   "display_name": "Python 3",
   "language": "python",
   "name": "python3"
  },
  "language_info": {
   "codemirror_mode": {
    "name": "ipython",
    "version": 3
   },
   "file_extension": ".py",
   "mimetype": "text/x-python",
   "name": "python",
   "nbconvert_exporter": "python",
   "pygments_lexer": "ipython3",
   "version": "3.6.7"
  }
 },
 "nbformat": 4,
 "nbformat_minor": 2
}
